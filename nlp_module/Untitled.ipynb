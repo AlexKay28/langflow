{
 "cells": [
  {
   "cell_type": "code",
   "execution_count": 40,
   "id": "4a7c18d2-dd8d-4cf6-b1a0-036708470798",
   "metadata": {},
   "outputs": [],
   "source": [
    "from functools import cache, lru_cache"
   ]
  },
  {
   "cell_type": "code",
   "execution_count": 55,
   "id": "09722d08-6fe4-4d6a-89e5-e05166492cb3",
   "metadata": {},
   "outputs": [],
   "source": [
    "import random"
   ]
  },
  {
   "cell_type": "code",
   "execution_count": 83,
   "id": "29d984b0-958c-47ec-9594-d3b3e10feec8",
   "metadata": {},
   "outputs": [],
   "source": [
    "def f1(a):\n",
    "    res = [i for i in range(a)]\n",
    "    return sum(res)\n",
    "\n",
    "@cache\n",
    "def f2(a):\n",
    "    res = [i for i in range(a)]\n",
    "    return sum(res)\n",
    "\n",
    "@lru_cache(maxsize=500)\n",
    "def f3(a):\n",
    "    res = [i for i in range(a)]\n",
    "    return sum(res)"
   ]
  },
  {
   "cell_type": "code",
   "execution_count": 84,
   "id": "76b07498-73b4-4656-920a-60fdb3e4255b",
   "metadata": {},
   "outputs": [
    {
     "name": "stdout",
     "output_type": "stream",
     "text": [
      "11.9 µs ± 1.95 µs per loop (mean ± std. dev. of 7 runs, 5000 loops each)\n"
     ]
    }
   ],
   "source": [
    "%%timeit -n 5000\n",
    "i = random.randint(0, 500)\n",
    "f1(300)"
   ]
  },
  {
   "cell_type": "code",
   "execution_count": 85,
   "id": "6a1a289c-8c9b-470f-a86a-eaf04284879e",
   "metadata": {},
   "outputs": [
    {
     "name": "stdout",
     "output_type": "stream",
     "text": [
      "924 ns ± 78.5 ns per loop (mean ± std. dev. of 7 runs, 5000 loops each)\n"
     ]
    }
   ],
   "source": [
    "%%timeit -n 5000\n",
    "i = random.randint(0, 10)\n",
    "f2(300)"
   ]
  },
  {
   "cell_type": "code",
   "execution_count": 86,
   "id": "f692f1ee-c91f-4aa1-b82a-55d3c3d69173",
   "metadata": {},
   "outputs": [
    {
     "name": "stdout",
     "output_type": "stream",
     "text": [
      "1.16 µs ± 394 ns per loop (mean ± std. dev. of 7 runs, 5000 loops each)\n"
     ]
    }
   ],
   "source": [
    "%%timeit -n 5000\n",
    "i = random.randint(0, 500)\n",
    "f3(i)"
   ]
  },
  {
   "cell_type": "code",
   "execution_count": null,
   "id": "f1ee8b99-1a63-4aad-8aca-2146f3a265ad",
   "metadata": {},
   "outputs": [],
   "source": []
  },
  {
   "cell_type": "code",
   "execution_count": null,
   "id": "d7ca8fd2-ed2a-418a-b2ce-91427f0d176d",
   "metadata": {},
   "outputs": [],
   "source": []
  },
  {
   "cell_type": "code",
   "execution_count": 14,
   "id": "62611972-0a7a-48bd-b4f8-62d961f38848",
   "metadata": {},
   "outputs": [],
   "source": [
    "import fasttext\n"
   ]
  },
  {
   "cell_type": "code",
   "execution_count": 34,
   "id": "af127881-f314-416d-af65-bcf19905a422",
   "metadata": {},
   "outputs": [],
   "source": [
    "import os\n",
    "\n",
    "def load_language_model(model_name: str, extension: str = \".bin\"):\n",
    "    return fasttext.load_model(f\"language_models/{model_name}.bin\")\n",
    "\n",
    "@cache\n",
    "def load_language_model1(model_name: str, extension: str = \".bin\"):\n",
    "    return fasttext.load_model(f\"language_models/{model_name}.bin\")"
   ]
  },
  {
   "cell_type": "code",
   "execution_count": 36,
   "id": "32b4b8b6-2417-483f-81d6-4a5c8d721dc3",
   "metadata": {},
   "outputs": [
    {
     "name": "stderr",
     "output_type": "stream",
     "text": [
      "Warning : `load_model` does not return WordVectorModel or SupervisedModel any more, but a `FastText` object which is very similar.\n",
      "Warning : `load_model` does not return WordVectorModel or SupervisedModel any more, but a `FastText` object which is very similar.\n",
      "Warning : `load_model` does not return WordVectorModel or SupervisedModel any more, but a `FastText` object which is very similar.\n",
      "Warning : `load_model` does not return WordVectorModel or SupervisedModel any more, but a `FastText` object which is very similar.\n",
      "Warning : `load_model` does not return WordVectorModel or SupervisedModel any more, but a `FastText` object which is very similar.\n",
      "Warning : `load_model` does not return WordVectorModel or SupervisedModel any more, but a `FastText` object which is very similar.\n",
      "Warning : `load_model` does not return WordVectorModel or SupervisedModel any more, but a `FastText` object which is very similar.\n",
      "Warning : `load_model` does not return WordVectorModel or SupervisedModel any more, but a `FastText` object which is very similar.\n",
      "Warning : `load_model` does not return WordVectorModel or SupervisedModel any more, but a `FastText` object which is very similar.\n",
      "Warning : `load_model` does not return WordVectorModel or SupervisedModel any more, but a `FastText` object which is very similar.\n",
      "Warning : `load_model` does not return WordVectorModel or SupervisedModel any more, but a `FastText` object which is very similar.\n",
      "Warning : `load_model` does not return WordVectorModel or SupervisedModel any more, but a `FastText` object which is very similar.\n",
      "Warning : `load_model` does not return WordVectorModel or SupervisedModel any more, but a `FastText` object which is very similar.\n"
     ]
    },
    {
     "name": "stdout",
     "output_type": "stream",
     "text": [
      "2.22 s ± 40.7 ms per loop (mean ± std. dev. of 7 runs, 2 loops each)\n"
     ]
    },
    {
     "name": "stderr",
     "output_type": "stream",
     "text": [
      "Warning : `load_model` does not return WordVectorModel or SupervisedModel any more, but a `FastText` object which is very similar.\n"
     ]
    }
   ],
   "source": [
    "%%timeit -n 2\n",
    "load_language_model(\"english\")"
   ]
  },
  {
   "cell_type": "code",
   "execution_count": 38,
   "id": "6501f1b1-aaa8-4cec-814f-0cbb141fd168",
   "metadata": {},
   "outputs": [
    {
     "name": "stdout",
     "output_type": "stream",
     "text": [
      "106 ns ± 28.7 ns per loop (mean ± std. dev. of 7 runs, 10 loops each)\n"
     ]
    }
   ],
   "source": [
    "%%timeit -n 10\n",
    "load_language_model1(\"english\")"
   ]
  },
  {
   "cell_type": "code",
   "execution_count": 87,
   "id": "2e13ae73-832b-40f2-87b1-55bcabb8c17b",
   "metadata": {},
   "outputs": [],
   "source": [
    "import re"
   ]
  },
  {
   "cell_type": "code",
   "execution_count": 88,
   "id": "a3dc3721-c2d0-4d6a-8969-631d45d8bf72",
   "metadata": {},
   "outputs": [],
   "source": [
    "a = \"_  sdas\""
   ]
  },
  {
   "cell_type": "code",
   "execution_count": 89,
   "id": "4c4a0de9-672e-485f-add2-1602ac30b8e7",
   "metadata": {},
   "outputs": [
    {
     "data": {
      "text/plain": [
       "'_ sdas'"
      ]
     },
     "execution_count": 89,
     "metadata": {},
     "output_type": "execute_result"
    }
   ],
   "source": [
    "re.sub(r\"\\s+\", \" \", a)"
   ]
  },
  {
   "cell_type": "code",
   "execution_count": null,
   "id": "522c6485-e118-492b-9af8-8fbc838a32f6",
   "metadata": {},
   "outputs": [],
   "source": []
  }
 ],
 "metadata": {
  "kernelspec": {
   "display_name": "Python 3 (ipykernel)",
   "language": "python",
   "name": "python3"
  },
  "language_info": {
   "codemirror_mode": {
    "name": "ipython",
    "version": 3
   },
   "file_extension": ".py",
   "mimetype": "text/x-python",
   "name": "python",
   "nbconvert_exporter": "python",
   "pygments_lexer": "ipython3",
   "version": "3.9.7"
  }
 },
 "nbformat": 4,
 "nbformat_minor": 5
}
